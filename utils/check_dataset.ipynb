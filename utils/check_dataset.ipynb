{
 "cells": [
  {
   "cell_type": "markdown",
   "id": "99961f37",
   "metadata": {},
   "source": [
    "# Check dataset\n",
    "\n",
    "... Check if labels and images are alvailable"
   ]
  },
  {
   "cell_type": "code",
   "execution_count": 6,
   "id": "10044435",
   "metadata": {},
   "outputs": [],
   "source": [
    "import os\n",
    "\n",
    "import numpy as np\n",
    "import pandas as pd"
   ]
  },
  {
   "cell_type": "code",
   "execution_count": 7,
   "id": "e535c900",
   "metadata": {},
   "outputs": [],
   "source": [
    "str_path = r\"D:\\Workshops\\2025_LNDW\\data\""
   ]
  },
  {
   "cell_type": "code",
   "execution_count": 8,
   "id": "ad3d8a72",
   "metadata": {},
   "outputs": [
    {
     "name": "stdout",
     "output_type": "stream",
     "text": [
      "Num labels train:  127065\n",
      "Num labels val:  15865\n",
      "Num labels test:  15929\n",
      "Num labels:  158859\n"
     ]
    }
   ],
   "source": [
    "# Get  all file names\n",
    "lst_labels_train = os.listdir(str_path+\"/train/labels\")\n",
    "lst_labels_val = os.listdir(str_path+\"/val/labels\")\n",
    "lst_labels_test = os.listdir(str_path+\"/test/labels\")\n",
    "\n",
    "print(\"Num labels train: \", len(lst_labels_train))\n",
    "print(\"Num labels val: \", len(lst_labels_val))\n",
    "print(\"Num labels test: \", len(lst_labels_test))\n",
    "print(\"Num labels: \", len(lst_labels_train)+len(lst_labels_val)+len(lst_labels_test))"
   ]
  },
  {
   "cell_type": "code",
   "execution_count": null,
   "id": "d5546ea7",
   "metadata": {},
   "outputs": [
    {
     "name": "stdout",
     "output_type": "stream",
     "text": [
      "Duplicates between train and val: set()\n",
      "Duplicates between train and test: set()\n",
      "Duplicates between val and test: set()\n"
     ]
    }
   ],
   "source": [
    "# Check if train, val and test are unique (no duplicates in the other splits)\n",
    "set_train = set(lst_labels_train)\n",
    "set_val = set(lst_labels_val)\n",
    "set_test = set(lst_labels_test)\n",
    "\n",
    "# Check for duplicates\n",
    "duplicates_train_val = set_train.intersection(set_val)\n",
    "duplicates_train_test = set_train.intersection(set_test)\n",
    "duplicates_val_test = set_val.intersection(set_test)\n",
    "\n",
    "print(\"Duplicates between train and val:\", duplicates_train_val)\n",
    "print(\"Duplicates between train and test:\", duplicates_train_test)\n",
    "print(\"Duplicates between val and test:\", duplicates_val_test)"
   ]
  },
  {
   "cell_type": "code",
   "execution_count": 16,
   "id": "13fba84a",
   "metadata": {},
   "outputs": [],
   "source": [
    "class_names = list(\"ABCDEFGHIJKLMNOPQRSTUVWXYZ\")"
   ]
  },
  {
   "cell_type": "code",
   "execution_count": 20,
   "id": "dc992695",
   "metadata": {},
   "outputs": [
    {
     "name": "stdout",
     "output_type": "stream",
     "text": [
      "Num images train:  127065\n",
      "Num images val:  15865\n",
      "Num images test:  15929\n",
      "Num images:  158859\n"
     ]
    }
   ],
   "source": [
    "lst_images_train = os.listdir(str_path+\"/train/images\")\n",
    "lst_images_val = os.listdir(str_path+\"/val/images\")\n",
    "lst_images_test = os.listdir(str_path+\"/test/images\")\n",
    "\n",
    "print(\"Num images train: \", len(lst_images_train))\n",
    "print(\"Num images val: \", len(lst_images_val))\n",
    "print(\"Num images test: \", len(lst_images_test))\n",
    "print(\"Num images: \", len(lst_images_train)+len(lst_images_val)+len(lst_images_test))"
   ]
  },
  {
   "cell_type": "code",
   "execution_count": 22,
   "id": "68fff8e5",
   "metadata": {},
   "outputs": [],
   "source": [
    "# Check if all train label names are present as image name\n",
    "# delete .jpg\n",
    "lst_images_train = [img[:-4] for img in lst_images_train]\n",
    "lst_images_val = [img[:-4] for img in lst_images_val]\n",
    "lst_images_test = [img[:-4] for img in lst_images_test]\n",
    "\n",
    "# delete .txt\n",
    "lst_labels_train = [lbl[:-4] for lbl in lst_labels_train]\n",
    "lst_labels_val = [lbl[:-4] for lbl in lst_labels_val]\n",
    "lst_labels_test = [lbl[:-4] for lbl in lst_labels_test]"
   ]
  },
  {
   "cell_type": "code",
   "execution_count": 23,
   "id": "08cbd5dd",
   "metadata": {},
   "outputs": [],
   "source": [
    "# Test if every label are in image\n",
    "for lbl in lst_labels_train:\n",
    "    if lbl not in lst_images_train:\n",
    "        print(\"Missing training image for label: \", lbl)\n",
    "\n",
    "for lbl in lst_labels_val:\n",
    "    if lbl not in lst_images_val:\n",
    "        print(\"Missing validation image for label: \", lbl)\n",
    "\n",
    "for lbl in lst_labels_test:\n",
    "    if lbl not in lst_images_test:\n",
    "        print(\"Missing test image for label: \", lbl)\n"
   ]
  }
 ],
 "metadata": {
  "kernelspec": {
   "display_name": "my-env (3.13.6)",
   "language": "python",
   "name": "python3"
  },
  "language_info": {
   "codemirror_mode": {
    "name": "ipython",
    "version": 3
   },
   "file_extension": ".py",
   "mimetype": "text/x-python",
   "name": "python",
   "nbconvert_exporter": "python",
   "pygments_lexer": "ipython3",
   "version": "3.13.6"
  }
 },
 "nbformat": 4,
 "nbformat_minor": 5
}
